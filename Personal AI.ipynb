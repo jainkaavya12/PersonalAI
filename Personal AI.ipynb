{
 "cells": [
  {
   "cell_type": "code",
   "execution_count": 1,
   "metadata": {},
   "outputs": [],
   "source": [
    "import pyttsx3\n",
    "import speech_recognition as sr\n",
    "import datetime\n",
    "import wikipedia\n",
    "import webbrowser\n",
    "import os \n",
    "import sys\n",
    "import pyaudio"
   ]
  },
  {
   "cell_type": "code",
   "execution_count": 2,
   "metadata": {},
   "outputs": [
    {
     "name": "stdout",
     "output_type": "stream",
     "text": [
      "HKEY_LOCAL_MACHINE\\SOFTWARE\\Microsoft\\Speech\\Voices\\Tokens\\TTS_MS_EN-US_ZIRA_11.0\n"
     ]
    }
   ],
   "source": [
    "engine = pyttsx3.init('sapi5')\n",
    "voices =engine.getProperty('voices')\n",
    "print (voices[1].id)\n",
    "engine.setProperty('voices', voices[1].id)"
   ]
  },
  {
   "cell_type": "code",
   "execution_count": 4,
   "metadata": {},
   "outputs": [
    {
     "name": "stdout",
     "output_type": "stream",
     "text": [
      "Listening..\n",
      "Recognizing...\n",
      "user said:  no thanks\n"
     ]
    }
   ],
   "source": [
    "# hour = 24\n",
    "def speak(audio):\n",
    "    engine.say(audio)\n",
    "    engine.runAndWait()\n",
    "def wishme(datetime):\n",
    "    hour = int(datetime.datetime.now().hour)\n",
    "    if hour>=0 and hour<12:\n",
    "        speak(\"Good morning\")\n",
    "    elif hour>12 and hour<18:\n",
    "        speak(\"Good afternoon\")\n",
    "    else:\n",
    "        speak(\"Good evening\")\n",
    "\n",
    "    speak(\"Hey User, your personal AI here, how can i help you?\")\n",
    "\n",
    "def takeCommand():\n",
    "    #it takes a microphone input from the user and returns string output\n",
    "    r = sr.Recognizer()\n",
    "    with sr.Microphone() as source:\n",
    "        print(\"Listening..\")\n",
    "        r.pause_threshold = 1\n",
    "        audio = r.listen(source)\n",
    "    try:\n",
    "        print(\"Recognizing...\")\n",
    "        query = r.recognize_google(audio, language=\"en-in\")\n",
    "        print(\"User said: \", query)\n",
    "        return query\n",
    "    except Exception as e:\n",
    "        print(e)\n",
    "        speak('Say that again please..')\n",
    "    return \"None\"\n",
    "    \n",
    "if __name__=='__main__':\n",
    "    #speak\n",
    "    wishme(datetime)\n",
    "    # if 1:\n",
    "    query = takeCommand().lower()\n",
    "    if query:\n",
    "        if 'wikipedia' in query:\n",
    "            speak(\"Searching wikipedia.. please wait for a while\")\n",
    "            query= query.replace(\"wikipedia\", \"\")\n",
    "            results = wikipedia.summary(query, sentences=3)\n",
    "            speak = (\"According to the wikipedia\")\n",
    "            print(results) \n",
    "        elif \"open youtube\" in query:\n",
    "            webbrowser.open(\"https://www.youtube.com\")\n",
    "        elif \"open google\" in query:\n",
    "            print(\"Opening Google...\")\n",
    "            webbrowser.open(\"https://www.google.com\")\n",
    "        elif \"open notepad\" in query:\n",
    "            npath = \"C:\\\\Windows\\\\notepad.exe\"\n",
    "            os.startfile(npath)\n",
    "        elif 'open command prompt' in query:\n",
    "            os.system(\"start cmd\")\n",
    "        elif 'no thanks' in query:\n",
    "            speak('Thank you ma''am for using me. Have a good day.')\n"
   ]
  },
  {
   "cell_type": "code",
   "execution_count": 5,
   "metadata": {},
   "outputs": [
    {
     "data": {
      "text/plain": [
       "'no thanks'"
      ]
     },
     "execution_count": 5,
     "metadata": {},
     "output_type": "execute_result"
    }
   ],
   "source": [
    "query "
   ]
  }
 ],
 "metadata": {
  "kernelspec": {
   "display_name": "venv",
   "language": "python",
   "name": "python3"
  },
  "language_info": {
   "codemirror_mode": {
    "name": "ipython",
    "version": 3
   },
   "file_extension": ".py",
   "mimetype": "text/x-python",
   "name": "python",
   "nbconvert_exporter": "python",
   "pygments_lexer": "ipython3",
   "version": "3.10.5"
  },
  "orig_nbformat": 4
 },
 "nbformat": 4,
 "nbformat_minor": 2
}
